{
 "cells": [
  {
   "cell_type": "markdown",
   "metadata": {
    "slideshow": {
     "slide_type": "slide"
    }
   },
   "source": [
    "\n",
    "<img src=\"images/utfsm.png\" alt=\"\" width=\"200px\" align=\"right\"/>\n",
    "\n",
    "<br/>\n",
    "\n",
    "# IWI131 Programación\n",
    "Funciones<br/>\n",
    "Cristopher Arenas<br/>\n",
    "cristopher.arenas@usm.cl<br/>\n",
    "\n",
    "<br/>\n",
    "Paralelo 200<br/>\n",
    "Campus San Joaquin"
   ]
  },
  {
   "cell_type": "markdown",
   "metadata": {
    "collapsed": true,
    "slideshow": {
     "slide_type": "slide"
    }
   },
   "source": [
    "# Problema\n",
    "La fuerza de atracción gravitacional entre dos planetas de masas $m_1$ y $m_2$ separados por una distancia de $r$ kilómetros está dada por la fórmula:\n",
    "\n",
    "$$\n",
    "F = G \\frac{m_1 \\, m_2}{r^2}\n",
    "$$\n",
    "\n",
    "donde $G = 6.67428 \\cdot 10^{-11} [m^3kg^{-1}s^{-2}]$ es la constante de gravitación universal.\n",
    "\n",
    "Escriba un programa que pregunte las masas de los planetas y su distancia, y entregue la fuerza de atracción entre ellas."
   ]
  },
  {
   "cell_type": "markdown",
   "metadata": {
    "slideshow": {
     "slide_type": "slide"
    }
   },
   "source": [
    "# Solución"
   ]
  },
  {
   "cell_type": "code",
   "execution_count": null,
   "metadata": {
    "slideshow": {
     "slide_type": "fragment"
    }
   },
   "outputs": [],
   "source": [
    "# preguntar por la masa del planeta 1\n",
    "m1 = float(raw_input(\"Ingrese m1: \")) # m1 tiene un float con la masa\n",
    "\n",
    "# preguntar por la masa del planeta 2\n",
    "m2 = float(raw_input(\"Ingrese m2: \")) # m2 tiene un float con la masa\n",
    "\n",
    "# preguntar por la distancia\n",
    "r = float(raw_input(\"Ingrese r: \")) # r tiene un float con la dist\n",
    "\n",
    "#constante\n",
    "G = 6.67428*10**-11\n",
    "\n",
    "#operaciones para calcular la fuerza\n",
    "M = m1*m2\n",
    "R = r**2\n",
    "div = M/R\n",
    "F = G*div\n",
    "\n",
    "#mostrar mensaje por pantalla\n",
    "print \"La fuerza de atraccion es\",F"
   ]
  },
  {
   "cell_type": "markdown",
   "metadata": {
    "slideshow": {
     "slide_type": "slide"
    }
   },
   "source": [
    "El cálculo de la fuerza de atracción gravitacional puede ser encapsulado en una función, para poder ser utilizado en otras ocasiones."
   ]
  },
  {
   "cell_type": "code",
   "execution_count": null,
   "metadata": {
    "collapsed": true,
    "slideshow": {
     "slide_type": "fragment"
    }
   },
   "outputs": [],
   "source": [
    "def cgu(masa1, masa2, radio):\n",
    "    G = 6.67428*10**-11\n",
    "    return G * masa1 * masa2 / (radio**2)"
   ]
  },
  {
   "cell_type": "code",
   "execution_count": null,
   "metadata": {
    "slideshow": {
     "slide_type": "fragment"
    }
   },
   "outputs": [],
   "source": [
    "m1 = float(raw_input(\"m1: \"))\n",
    "m2 = float(raw_input(\"m2: \"))\n",
    "r = float(raw_input(\"Distancia: \"))\n",
    "print 'La fuerza de atraccion es', cgu(m1, m2, r)"
   ]
  },
  {
   "cell_type": "markdown",
   "metadata": {
    "slideshow": {
     "slide_type": "slide"
    }
   },
   "source": [
    "# Otra forma de usar funciones"
   ]
  },
  {
   "cell_type": "code",
   "execution_count": null,
   "metadata": {
    "slideshow": {
     "slide_type": "fragment"
    }
   },
   "outputs": [],
   "source": [
    "m1 = 25*10**2\n",
    "m2 = 23575.24\n",
    "r = 250000e10\n",
    "fuerza =  cgu(m1, m2, r)\n",
    "\n",
    "print fuerza"
   ]
  },
  {
   "cell_type": "markdown",
   "metadata": {
    "slideshow": {
     "slide_type": "slide"
    }
   },
   "source": [
    "# Funciones\n",
    "- Una función es una sección de un programa que calcula un valor de manera independiente del resto del programa.\n",
    "- Posee 3 componentes importantes:\n",
    "    1. Parámetros\n",
    "    2. Código de la función\n",
    "    3. Resultado o valor de retorno"
   ]
  },
  {
   "cell_type": "markdown",
   "metadata": {
    "slideshow": {
     "slide_type": "slide"
    }
   },
   "source": [
    "Identificar los componentes de la siguiente función:"
   ]
  },
  {
   "cell_type": "code",
   "execution_count": 16,
   "metadata": {
    "slideshow": {
     "slide_type": "fragment"
    }
   },
   "outputs": [
    {
     "name": "stdout",
     "output_type": "stream",
     "text": [
      "c= 25\n"
     ]
    }
   ],
   "source": [
    "def cuadrado(numero1, numero2):\n",
    "    c = numero1**2 +  numero2**2\n",
    "    return c\n",
    "c = cuadrado(3,4)\n",
    "print \"c=\",c\n"
   ]
  },
  {
   "cell_type": "code",
   "execution_count": 15,
   "metadata": {
    "slideshow": {
     "slide_type": "fragment"
    }
   },
   "outputs": [
    {
     "name": "stdout",
     "output_type": "stream",
     "text": [
      "c= 25\n",
      "a= None\n"
     ]
    },
    {
     "ename": "NameError",
     "evalue": "name 'c' is not defined",
     "output_type": "error",
     "traceback": [
      "\u001b[1;31m---------------------------------------------------------------------------\u001b[0m",
      "\u001b[1;31mNameError\u001b[0m                                 Traceback (most recent call last)",
      "\u001b[1;32m<ipython-input-15-105280263981>\u001b[0m in \u001b[0;36m<module>\u001b[1;34m()\u001b[0m\n\u001b[0;32m      4\u001b[0m \u001b[0ma\u001b[0m \u001b[1;33m=\u001b[0m \u001b[0mcuadrado\u001b[0m\u001b[1;33m(\u001b[0m\u001b[1;36m3\u001b[0m\u001b[1;33m,\u001b[0m\u001b[1;36m4\u001b[0m\u001b[1;33m)\u001b[0m\u001b[1;33m\u001b[0m\u001b[0m\n\u001b[0;32m      5\u001b[0m \u001b[1;32mprint\u001b[0m \u001b[1;34m\"a=\"\u001b[0m\u001b[1;33m,\u001b[0m\u001b[0ma\u001b[0m\u001b[1;33m\u001b[0m\u001b[0m\n\u001b[1;32m----> 6\u001b[1;33m \u001b[1;32mprint\u001b[0m \u001b[0mc\u001b[0m\u001b[1;33m\u001b[0m\u001b[0m\n\u001b[0m",
      "\u001b[1;31mNameError\u001b[0m: name 'c' is not defined"
     ]
    }
   ],
   "source": [
    "def cuadrado(numero1, numero2):\n",
    "    c = numero1**2 +  numero2**2\n",
    "    print \"c=\",c\n",
    "a = cuadrado(3,4)\n",
    "print \"a=\",a\n",
    "print c"
   ]
  },
  {
   "cell_type": "markdown",
   "metadata": {
    "slideshow": {
     "slide_type": "slide"
    }
   },
   "source": [
    "# Variables locales y globales"
   ]
  },
  {
   "cell_type": "markdown",
   "metadata": {
    "slideshow": {
     "slide_type": "fragment"
    }
   },
   "source": [
    "- **Variables locales**: \n",
    "    - Son aquellas variables creadas dentro de una función. \n",
    "    - Solo son visibles dentro de la función, no desde el resto del programa."
   ]
  },
  {
   "cell_type": "markdown",
   "metadata": {
    "slideshow": {
     "slide_type": "fragment"
    }
   },
   "source": [
    "- **Variables globales**:\n",
    "    - Son variables creadas fuera de alguna función\n",
    "    - Visibles desde cualquier parte del programa.\n",
    "    - No pueden modificarse dentro de una función porque generan una variable local con el mismo nombre."
   ]
  },
  {
   "cell_type": "markdown",
   "metadata": {
    "slideshow": {
     "slide_type": "slide"
    }
   },
   "source": [
    "# Ejercicio 1\n",
    "Escriba funciones que reciban el radio de un círculo y calculen:\n",
    "1. El perímetro del círculo: $P = 2 \\, \\pi \\, r$\n",
    "2. El área del círculo: $A = \\pi \\, r^2$"
   ]
  },
  {
   "cell_type": "code",
   "execution_count": null,
   "metadata": {
    "collapsed": true,
    "slideshow": {
     "slide_type": "fragment"
    }
   },
   "outputs": [],
   "source": [
    "# perimetro del circulo\n",
    "def perimetro(diametro):\n",
    "    pi = 3.14\n",
    "    P = pi*diametro\n",
    "    return P\n",
    "p = perimetro(5)\n",
    "print p"
   ]
  },
  {
   "cell_type": "code",
   "execution_count": null,
   "metadata": {
    "collapsed": true,
    "slideshow": {
     "slide_type": "slide"
    }
   },
   "outputs": [],
   "source": [
    "# area del circulo\n",
    "def area(radio):\n",
    "    pi = 3.14\n",
    "    a = pi*(radio**2)\n",
    "    return a\n",
    "\n",
    "cuadrado = 2\n",
    "A = area(cuadrado)\n",
    "print A"
   ]
  },
  {
   "cell_type": "markdown",
   "metadata": {
    "slideshow": {
     "slide_type": "slide"
    }
   },
   "source": [
    "# Ejercicio 2\n",
    "Escriba la función `promedio(n1, n2, n3)` que reciba como parámetro la nota de 3 certámenes y retorne el valor del promedio entre estas notas."
   ]
  },
  {
   "cell_type": "code",
   "execution_count": null,
   "metadata": {
    "collapsed": true,
    "slideshow": {
     "slide_type": "slide"
    }
   },
   "outputs": [],
   "source": [
    "# funcion promedio\n",
    "def promedio(n1, n2, n3):\n",
    "    p = (n1+n2+n3)/3.0\n",
    "    return p\n",
    "\n",
    "#evaluar la funcion con algunos ejemplos\n",
    "n1 = 2\n",
    "prom = promedio(100,100,50)\n",
    "print prom\n",
    "prom2 =promedio(100,100,99)\n",
    "print prom2"
   ]
  },
  {
   "cell_type": "markdown",
   "metadata": {
    "slideshow": {
     "slide_type": "fragment"
    }
   },
   "source": [
    "Realice el ruteo de la función `promedio(n1, n2, n3)`"
   ]
  },
  {
   "cell_type": "markdown",
   "metadata": {
    "slideshow": {
     "slide_type": "slide"
    }
   },
   "source": [
    "# Ejercicio 3\n",
    "Realice el ruteo del siguiente programa."
   ]
  },
  {
   "cell_type": "code",
   "execution_count": null,
   "metadata": {
    "collapsed": true,
    "slideshow": {
     "slide_type": "fragment"
    }
   },
   "outputs": [],
   "source": [
    "def f1(a, b):\n",
    "    return a - b\n",
    "\n",
    "def f2(b, a):\n",
    "    c = f1(a, b)\n",
    "    return c + b\n",
    "\n",
    "a = 3\n",
    "b = 4\n",
    "print f2(a, b)"
   ]
  },
  {
   "cell_type": "code",
   "execution_count": null,
   "metadata": {
    "collapsed": true,
    "slideshow": {
     "slide_type": "skip"
    }
   },
   "outputs": [],
   "source": []
  }
 ],
 "metadata": {
  "anaconda-cloud": {},
  "celltoolbar": "Slideshow",
  "kernelspec": {
   "display_name": "Python 2",
   "language": "python",
   "name": "python2"
  },
  "language_info": {
   "codemirror_mode": {
    "name": "ipython",
    "version": 2
   },
   "file_extension": ".py",
   "mimetype": "text/x-python",
   "name": "python",
   "nbconvert_exporter": "python",
   "pygments_lexer": "ipython2",
   "version": "2.7.6"
  }
 },
 "nbformat": 4,
 "nbformat_minor": 1
}
